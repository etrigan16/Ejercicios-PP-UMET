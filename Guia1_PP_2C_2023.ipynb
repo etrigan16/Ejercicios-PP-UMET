{
  "nbformat": 4,
  "nbformat_minor": 0,
  "metadata": {
    "colab": {
      "provenance": [],
      "authorship_tag": "ABX9TyPcPuxN9Wzx2OGI/JlWu8MX",
      "include_colab_link": true
    },
    "kernelspec": {
      "name": "python3",
      "display_name": "Python 3"
    },
    "language_info": {
      "name": "python"
    }
  },
  "cells": [
    {
      "cell_type": "markdown",
      "metadata": {
        "id": "view-in-github",
        "colab_type": "text"
      },
      "source": [
        "<a href=\"https://colab.research.google.com/github/etrigan16/Ejercicios-PP-UMET/blob/master/Guia1_PP_2C_2023.ipynb\" target=\"_parent\"><img src=\"https://colab.research.google.com/assets/colab-badge.svg\" alt=\"Open In Colab\"/></a>"
      ]
    },
    {
      "cell_type": "markdown",
      "source": [
        "# Esta guía contiene enunciados de algunos ejercicios para aplicar los conceptos de programación en Python variables, tipos, constantes y condicionales (if) operaciones."
      ],
      "metadata": {
        "id": "Z0YIYGc_Bko5"
      }
    },
    {
      "cell_type": "markdown",
      "source": [
        "1. Desarrolle un programa que pase un peso de kilogramo a libras teniendo en cuenta que cada kilogramo equivale a 2.2 libras."
      ],
      "metadata": {
        "id": "qneJa_OCDAvN"
      }
    },
    {
      "cell_type": "code",
      "execution_count": 7,
      "metadata": {
        "colab": {
          "base_uri": "https://localhost:8080/"
        },
        "id": "x3kZ0wrFBeKW",
        "outputId": "f86162dd-377e-49a6-f14a-4d19112af666"
      },
      "outputs": [
        {
          "output_type": "stream",
          "name": "stdout",
          "text": [
            "Ingrese la cantidad de kilos a pasar a libras: 10\n",
            "La cantidad de libras para  10.0  kilos es:  22.0\n"
          ]
        }
      ],
      "source": [
        "#Declaracion de variables\n",
        "libra=2.2\n",
        "kilo=0.0\n",
        "convert_libra=0.0\n",
        "\n",
        "#Pedido de ingreso de datos por teclado\n",
        "kilo=float(input(\"Ingrese la cantidad de kilos a pasar a libras: \"))\n",
        "\n",
        "#Calculo de kilos a libras\n",
        "convert_libra= kilo*libra\n",
        "\n",
        "#Mostrar calculo por pantalla\n",
        "print(\"La cantidad de libras para \", kilo, \" kilos es: \", convert_libra)\n"
      ]
    },
    {
      "cell_type": "markdown",
      "source": [
        "2. Escribir un programa que pregunte un nombre de usuario, y que después muestre por pantalla si su cantidad de letras es par o impar."
      ],
      "metadata": {
        "id": "RdlWY9HIILoV"
      }
    },
    {
      "cell_type": "code",
      "source": [],
      "metadata": {
        "id": "MWtADBGPITEz"
      },
      "execution_count": null,
      "outputs": []
    }
  ]
}